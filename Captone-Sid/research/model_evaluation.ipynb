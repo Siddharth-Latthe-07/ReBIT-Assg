{
 "cells": [
  {
   "cell_type": "code",
   "execution_count": 1,
   "metadata": {},
   "outputs": [],
   "source": [
    "import os"
   ]
  },
  {
   "cell_type": "code",
   "execution_count": 2,
   "metadata": {},
   "outputs": [
    {
     "data": {
      "text/plain": [
       "'d:\\\\MLpipeline\\\\mlpipeline-example\\\\research'"
      ]
     },
     "execution_count": 2,
     "metadata": {},
     "output_type": "execute_result"
    }
   ],
   "source": [
    "%pwd"
   ]
  },
  {
   "cell_type": "code",
   "execution_count": 3,
   "metadata": {},
   "outputs": [],
   "source": [
    "os.chdir(\"../\")"
   ]
  },
  {
   "cell_type": "code",
   "execution_count": 4,
   "metadata": {},
   "outputs": [
    {
     "data": {
      "text/plain": [
       "'d:\\\\MLpipeline\\\\mlpipeline-example'"
      ]
     },
     "execution_count": 4,
     "metadata": {},
     "output_type": "execute_result"
    }
   ],
   "source": [
    "%pwd"
   ]
  },
  {
   "cell_type": "code",
   "execution_count": 5,
   "metadata": {},
   "outputs": [],
   "source": [
    "from dataclasses import dataclass\n",
    "from pathlib import Path\n",
    "\n",
    "\n",
    "@dataclass(frozen=True)\n",
    "class ModelEvaluationConfig:\n",
    "    root_dir: Path\n",
    "    test_data_path: Path\n",
    "    model_path: Path\n",
    "    all_params: dict\n",
    "    metric_file_name: Path\n",
    "    target_column: str"
   ]
  },
  {
   "cell_type": "code",
   "execution_count": 7,
   "metadata": {},
   "outputs": [],
   "source": [
    "# import \n",
    "\n",
    "from src.mlProject.constants import *\n",
    "# whatever things are inside constants import everything\n",
    "\n",
    "from src.mlProject.utils.common import read_yaml,create_directories,save_json\n"
   ]
  },
  {
   "cell_type": "code",
   "execution_count": 8,
   "metadata": {},
   "outputs": [],
   "source": [
    "class ConfigurationManager:\n",
    "    def __init__(\n",
    "        self,\n",
    "        config_filepath = CONFIG_FILE_PATH,\n",
    "        params_filepath = PARAMS_FILE_PATH,\n",
    "        schema_filepath = SCHEMA_FILE_PATH):\n",
    "\n",
    "        self.config = read_yaml(config_filepath)\n",
    "        self.params = read_yaml(params_filepath)\n",
    "        self.schema = read_yaml(schema_filepath)\n",
    "\n",
    "        create_directories([self.config.artifacts_root])\n",
    "\n",
    "\n",
    "    \n",
    "    def get_model_evaluation_config(self) -> ModelEvaluationConfig:\n",
    "        config = self.config.model_evaluation\n",
    "        params = self.params.ElasticNet\n",
    "        schema =  self.schema.TARGET_COLUMN\n",
    "\n",
    "        create_directories([config.root_dir])\n",
    "\n",
    "        model_evaluation_config = ModelEvaluationConfig(\n",
    "            root_dir=config.root_dir,\n",
    "            test_data_path=config.test_data_path,\n",
    "            model_path = config.model_path,\n",
    "            all_params=params,\n",
    "            metric_file_name = config.metric_file_name,\n",
    "            target_column = schema.name\n",
    "           \n",
    "        )\n",
    "\n",
    "        return model_evaluation_config"
   ]
  },
  {
   "cell_type": "code",
   "execution_count": 9,
   "metadata": {},
   "outputs": [],
   "source": [
    "import pandas as pd\n",
    "import numpy as np\n",
    "import os\n",
    "from src.mlProject import logger\n",
    "from sklearn.linear_model import ElasticNet\n",
    "import joblib\n",
    "\n",
    "from sklearn.metrics import mean_squared_error, mean_absolute_error, r2_score\n",
    "from urllib.parse import urlparse\n",
    "\n"
   ]
  },
  {
   "cell_type": "code",
   "execution_count": 10,
   "metadata": {},
   "outputs": [],
   "source": [
    "\n",
    "class ModelEvaluation:\n",
    "    def __init__(self, config: ModelEvaluationConfig):\n",
    "        self.config = config\n",
    "\n",
    "    def eval_metrics(self, actual, predicted):\n",
    "        # Handle the 'YES'/'NO' labels in a binary classification context\n",
    "        try:\n",
    "            precision = precision_score(actual, predicted, average=\"binary\", pos_label='YES')\n",
    "            recall = recall_score(actual, predicted, average=\"binary\", pos_label='YES')\n",
    "            f1 = f1_score(actual, predicted, average=\"binary\", pos_label='YES')\n",
    "        except ValueError as e:\n",
    "            print(f\"Error calculating metrics: {e}\")\n",
    "            raise\n",
    "\n",
    "        accuracy = accuracy_score(actual, predicted)\n",
    "        confusion = confusion_matrix(actual, predicted)\n",
    "        report = classification_report(actual, predicted, output_dict=True)  # Use output_dict for tabular format\n",
    "\n",
    "        return accuracy, precision, recall, f1, confusion, report\n",
    "\n",
    "    def save_results(self):\n",
    "        # Load test data and model\n",
    "        test_data = pd.read_csv(self.config.test_data_path)\n",
    "        model = joblib.load(self.config.model_path)\n",
    "\n",
    "        # Split features and target\n",
    "        test_x = test_data.drop([self.config.target_column], axis=1)\n",
    "        test_y = test_data[self.config.target_column]\n",
    "\n",
    "        # Generate predictions\n",
    "        predicted_labels = model.predict(test_x)\n",
    "\n",
    "        # Calculate metrics\n",
    "        accuracy, precision, recall, f1, confusion, report_dict = self.eval_metrics(test_y, predicted_labels)\n",
    "\n",
    "        # Convert classification_report to DataFrame\n",
    "        report_df = pd.DataFrame(report_dict).transpose()\n",
    "\n",
    "        # Save the classification report as a CSV file\n",
    "        report_csv_path = os.path.join(self.config.root_dir, \"classification_report.csv\")\n",
    "        report_df.to_csv(report_csv_path, index=True)\n",
    "\n",
    "        # Save other metrics\n",
    "        scores = {\n",
    "            \"accuracy\": accuracy,\n",
    "            \"precision\": precision,\n",
    "            \"recall\": recall,\n",
    "            \"f1_score\": f1,\n",
    "            \"confusion_matrix\": confusion.tolist()  # Convert to list for JSON serialization\n",
    "        }\n",
    "\n",
    "        # Format the JSON output with indentation\n",
    "        formatted_scores = json.dumps(scores, indent=4)\n",
    "\n",
    "        # Save the formatted metrics to a JSON file\n",
    "        with open(self.config.metric_file_name, 'w') as json_file:\n",
    "            json_file.write(formatted_scores)\n",
    "\n",
    "        print(f\"Model evaluation completed. Metrics saved to: {self.config.metric_file_name}\")\n",
    "        print(f\"Classification report saved to: {report_csv_path}\")\n"
   ]
  },
  {
   "cell_type": "code",
   "execution_count": 11,
   "metadata": {},
   "outputs": [
    {
     "name": "stdout",
     "output_type": "stream",
     "text": [
      "[2024-12-23 15:50:37,929: INFO: common: yaml file: config\\config.yaml loaded successfully]\n",
      "[2024-12-23 15:50:37,933: INFO: common: yaml file: params.yaml loaded successfully]\n",
      "[2024-12-23 15:50:37,938: INFO: common: yaml file: schema.yaml loaded successfully]\n",
      "[2024-12-23 15:50:37,941: INFO: common: created directory at: artifacts]\n",
      "[2024-12-23 15:50:37,944: INFO: common: created directory at: artifacts/model_evaluation]\n",
      "[2024-12-23 15:50:37,966: INFO: common: json file saved at: artifacts\\model_evaluation\\metrics.json]\n"
     ]
    }
   ],
   "source": [
    "try:\n",
    "    config = ConfigurationManager()\n",
    "    model_evaluation_config = config.get_model_evaluation_config()\n",
    "    model_evaluation_config = ModelEvaluation(config=model_evaluation_config)\n",
    "    model_evaluation_config.save_results()\n",
    "except Exception as e:\n",
    "    raise e"
   ]
  },
  {
   "cell_type": "code",
   "execution_count": null,
   "metadata": {},
   "outputs": [],
   "source": []
  },
  {
   "cell_type": "code",
   "execution_count": null,
   "metadata": {},
   "outputs": [],
   "source": []
  },
  {
   "cell_type": "code",
   "execution_count": null,
   "metadata": {},
   "outputs": [],
   "source": []
  },
  {
   "cell_type": "code",
   "execution_count": null,
   "metadata": {},
   "outputs": [],
   "source": []
  },
  {
   "cell_type": "code",
   "execution_count": null,
   "metadata": {},
   "outputs": [],
   "source": []
  }
 ],
 "metadata": {
  "kernelspec": {
   "display_name": "mlproj",
   "language": "python",
   "name": "python3"
  },
  "language_info": {
   "codemirror_mode": {
    "name": "ipython",
    "version": 3
   },
   "file_extension": ".py",
   "mimetype": "text/x-python",
   "name": "python",
   "nbconvert_exporter": "python",
   "pygments_lexer": "ipython3",
   "version": "3.10.16"
  }
 },
 "nbformat": 4,
 "nbformat_minor": 2
}
